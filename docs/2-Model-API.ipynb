{
 "cells": [
  {
   "cell_type": "markdown",
   "id": "4a79b900",
   "metadata": {},
   "source": [
    "# Sociomepy\n",
    "\n",
    "Sociomepy is a Python package that provides a number of convient functions, data structures, and models for manipulating socio-environmental data. Implementation-wise it is a wrapper around the GeoPandas library and is fully compatitble with all data formats that geopandas accepts.\n",
    "\n",
    "## Model API\n",
    "The model API builds on the metrics API to allow users to build various explanatory models on the sociome data."
   ]
  },
  {
   "cell_type": "markdown",
   "id": "617c4c84",
   "metadata": {},
   "source": [
    "As before, we import the sociomedataframe and initialize it with some default data."
   ]
  },
  {
   "cell_type": "code",
   "execution_count": 2,
   "id": "a99ee053",
   "metadata": {},
   "outputs": [],
   "source": [
    "from sociomepy.data import SociomeDataFrame"
   ]
  },
  {
   "cell_type": "markdown",
   "id": "a44eb4a4",
   "metadata": {},
   "source": [
    "We can initialize this SociomeDataFrame with many different types of data. In this example, we will work with an ArcGIS address file of the City of Chicago. We will start with 10000 addresses in the city of chicago"
   ]
  },
  {
   "cell_type": "code",
   "execution_count": 3,
   "id": "58064e80",
   "metadata": {},
   "outputs": [],
   "source": [
    "chicago = SociomeDataFrame.from_arcgis_file('../data/chicago-addresses.csv', nrows=10000)\n",
    "chicago.data = chicago.data[chicago.data['Post_Comm'] == 'CHICAGO']"
   ]
  },
  {
   "cell_type": "code",
   "execution_count": 4,
   "id": "2c987d9e",
   "metadata": {},
   "outputs": [
    {
     "data": {
      "text/html": [
       "<div>\n",
       "<style scoped>\n",
       "    .dataframe tbody tr th:only-of-type {\n",
       "        vertical-align: middle;\n",
       "    }\n",
       "\n",
       "    .dataframe tbody tr th {\n",
       "        vertical-align: top;\n",
       "    }\n",
       "\n",
       "    .dataframe thead th {\n",
       "        text-align: right;\n",
       "    }\n",
       "</style>\n",
       "<table border=\"1\" class=\"dataframe\">\n",
       "  <thead>\n",
       "    <tr style=\"text-align: right;\">\n",
       "      <th></th>\n",
       "      <th>Lat</th>\n",
       "      <th>Long</th>\n",
       "      <th>ADDRDELIV</th>\n",
       "      <th>Post_Comm</th>\n",
       "      <th>State</th>\n",
       "      <th>Post_Code</th>\n",
       "      <th>LSt_Type</th>\n",
       "      <th>LSt_PreDir</th>\n",
       "      <th>geometry</th>\n",
       "      <th>LOCATIONS</th>\n",
       "    </tr>\n",
       "  </thead>\n",
       "  <tbody>\n",
       "    <tr>\n",
       "      <th>0</th>\n",
       "      <td>41.935796</td>\n",
       "      <td>-87.673357</td>\n",
       "      <td>1763 WEST WELLINGTON AVENUE</td>\n",
       "      <td>CHICAGO</td>\n",
       "      <td>IL</td>\n",
       "      <td>60657</td>\n",
       "      <td>AVE</td>\n",
       "      <td>W</td>\n",
       "      <td>POINT (-87.67336 41.93580)</td>\n",
       "      <td>1</td>\n",
       "    </tr>\n",
       "    <tr>\n",
       "      <th>1</th>\n",
       "      <td>41.855258</td>\n",
       "      <td>-87.667139</td>\n",
       "      <td>1622 WEST CULLERTON STREET</td>\n",
       "      <td>CHICAGO</td>\n",
       "      <td>IL</td>\n",
       "      <td>60608</td>\n",
       "      <td>ST</td>\n",
       "      <td>W</td>\n",
       "      <td>POINT (-87.66714 41.85526)</td>\n",
       "      <td>1</td>\n",
       "    </tr>\n",
       "    <tr>\n",
       "      <th>2</th>\n",
       "      <td>41.917926</td>\n",
       "      <td>-87.651651</td>\n",
       "      <td>917 WEST ARMITAGE AVENUE</td>\n",
       "      <td>CHICAGO</td>\n",
       "      <td>IL</td>\n",
       "      <td>60614</td>\n",
       "      <td>AVE</td>\n",
       "      <td>W</td>\n",
       "      <td>POINT (-87.65165 41.91793)</td>\n",
       "      <td>1</td>\n",
       "    </tr>\n",
       "    <tr>\n",
       "      <th>6</th>\n",
       "      <td>41.868253</td>\n",
       "      <td>-87.626334</td>\n",
       "      <td>1132 SOUTH WABASH AVENUE</td>\n",
       "      <td>CHICAGO</td>\n",
       "      <td>IL</td>\n",
       "      <td>60605</td>\n",
       "      <td>AVE</td>\n",
       "      <td>S</td>\n",
       "      <td>POINT (-87.62633 41.86825)</td>\n",
       "      <td>1</td>\n",
       "    </tr>\n",
       "    <tr>\n",
       "      <th>7</th>\n",
       "      <td>41.895400</td>\n",
       "      <td>-87.658712</td>\n",
       "      <td>732 NORTH WILLARD COURT</td>\n",
       "      <td>CHICAGO</td>\n",
       "      <td>IL</td>\n",
       "      <td>60642</td>\n",
       "      <td>CT</td>\n",
       "      <td>N</td>\n",
       "      <td>POINT (-87.65871 41.89540)</td>\n",
       "      <td>1</td>\n",
       "    </tr>\n",
       "  </tbody>\n",
       "</table>\n",
       "</div>"
      ],
      "text/plain": [
       "         Lat       Long                    ADDRDELIV Post_Comm State  \\\n",
       "0  41.935796 -87.673357  1763 WEST WELLINGTON AVENUE   CHICAGO    IL   \n",
       "1  41.855258 -87.667139   1622 WEST CULLERTON STREET   CHICAGO    IL   \n",
       "2  41.917926 -87.651651     917 WEST ARMITAGE AVENUE   CHICAGO    IL   \n",
       "6  41.868253 -87.626334     1132 SOUTH WABASH AVENUE   CHICAGO    IL   \n",
       "7  41.895400 -87.658712      732 NORTH WILLARD COURT   CHICAGO    IL   \n",
       "\n",
       "   Post_Code LSt_Type LSt_PreDir                    geometry  LOCATIONS  \n",
       "0      60657      AVE          W  POINT (-87.67336 41.93580)          1  \n",
       "1      60608       ST          W  POINT (-87.66714 41.85526)          1  \n",
       "2      60614      AVE          W  POINT (-87.65165 41.91793)          1  \n",
       "6      60605      AVE          S  POINT (-87.62633 41.86825)          1  \n",
       "7      60642       CT          N  POINT (-87.65871 41.89540)          1  "
      ]
     },
     "execution_count": 4,
     "metadata": {},
     "output_type": "execute_result"
    }
   ],
   "source": [
    "chicago.data.head()"
   ]
  },
  {
   "cell_type": "markdown",
   "id": "ca9ee556",
   "metadata": {},
   "source": [
    "## Adding Metrics\n",
    "Now, we will add several metrics to this SociomeDataFrame. First, let's get our imports in order"
   ]
  },
  {
   "cell_type": "code",
   "execution_count": 5,
   "id": "e78214d0",
   "metadata": {},
   "outputs": [],
   "source": [
    "from sociomepy.data import SociomeDataFrame\n",
    "from sociomepy.metrics import SpatialDensityFunction, SpatialSubdivisionFunction\n",
    "from sociomepy.accessors import *"
   ]
  },
  {
   "cell_type": "markdown",
   "id": "fd10e929",
   "metadata": {},
   "source": [
    "Adding distance to a park."
   ]
  },
  {
   "cell_type": "code",
   "execution_count": 6,
   "id": "b98f77fe",
   "metadata": {},
   "outputs": [
    {
     "data": {
      "text/plain": [
       "<sociomepy.data.SociomeDataFrame at 0x1163928b0>"
      ]
     },
     "execution_count": 6,
     "metadata": {},
     "output_type": "execute_result"
    }
   ],
   "source": [
    "parks = SociomeDataFrame.from_json('https://data.cityofchicago.org/resource/2eaw-bdhe.json', access_by_location_dict('location'))\n",
    "park_distance = SpatialDensityFunction(parks)\n",
    "chicago.add_metric_to_data(park_distance, 'park_distance')"
   ]
  },
  {
   "cell_type": "markdown",
   "id": "7ac41b67",
   "metadata": {},
   "source": [
    "Next we will add crime data."
   ]
  },
  {
   "cell_type": "code",
   "execution_count": 7,
   "id": "246f88ee",
   "metadata": {},
   "outputs": [
    {
     "data": {
      "text/plain": [
       "<sociomepy.data.SociomeDataFrame at 0x1163928b0>"
      ]
     },
     "execution_count": 7,
     "metadata": {},
     "output_type": "execute_result"
    }
   ],
   "source": [
    "crimes = SociomeDataFrame.from_json('https://data.cityofchicago.org/resource/dfnk-7re6.json', access_by_attribute('longitude', 'latitude'))\n",
    "crime_density = SpatialDensityFunction(crimes)\n",
    "chicago.add_metric_to_data(crime_density, 'crime')"
   ]
  },
  {
   "cell_type": "markdown",
   "id": "8c73860a",
   "metadata": {},
   "source": [
    "## Adding Prediction Targets\n",
    "We will try to predict Zillow house prices using these two explanatory variables. Using the metrics API, we add the following metric to the dataset."
   ]
  },
  {
   "cell_type": "code",
   "execution_count": 8,
   "id": "b706cced",
   "metadata": {},
   "outputs": [
    {
     "name": "stderr",
     "output_type": "stream",
     "text": [
      "/Users/sanjaykrishnan/Documents/sociome-data-commons-v2/venv/lib/python3.9/site-packages/IPython/core/interactiveshell.py:3378: FutureWarning: The `op` parameter is deprecated and will be removed in a future release. Please use the `predicate` parameter instead.\n",
      "  exec(code_obj, self.user_global_ns, self.user_ns)\n"
     ]
    },
    {
     "data": {
      "text/plain": [
       "<sociomepy.data.SociomeDataFrame at 0x1163928b0>"
      ]
     },
     "execution_count": 8,
     "metadata": {},
     "output_type": "execute_result"
    }
   ],
   "source": [
    "zillow = SociomeDataFrame.from_save_file('../data/zillow')\n",
    "chicago.add_subdivision(zillow, 'neighborhood', 'RegionID')\n",
    "prices_in_july = SpatialSubdivisionFunction(zillow, 'neighborhood', '2022-07-31', 'RegionID')\n",
    "chicago.add_metric_to_data(prices_in_july, 'prices')"
   ]
  },
  {
   "cell_type": "markdown",
   "id": "27dd0221",
   "metadata": {},
   "source": [
    "## Modeling\n",
    "\n",
    "Now, we will fit a few different explanatory models over this data using our model API."
   ]
  },
  {
   "cell_type": "code",
   "execution_count": 9,
   "id": "f1ae053e",
   "metadata": {},
   "outputs": [],
   "source": [
    "from sociomepy.model import GeospatialModel"
   ]
  },
  {
   "cell_type": "markdown",
   "id": "bde386a2",
   "metadata": {},
   "source": [
    "A model is initialized with two parameters: a target and a set of desired explanatory variables."
   ]
  },
  {
   "cell_type": "code",
   "execution_count": 10,
   "id": "d21e993d",
   "metadata": {},
   "outputs": [],
   "source": [
    "model = GeospatialModel('prices', ['park_distance', 'crime'])"
   ]
  },
  {
   "cell_type": "markdown",
   "id": "06bebe14",
   "metadata": {},
   "source": [
    "By default the model is a regularized least squares model, but any scikit learn model can be used. The model is fit against a particular SociomeDataFrame. Additionally, the user needs to specify what to call the predicted and residual values.\n",
    "\n",
    "The output of the fitting procedure is another dataframe."
   ]
  },
  {
   "cell_type": "code",
   "execution_count": 11,
   "id": "f918be9c",
   "metadata": {},
   "outputs": [],
   "source": [
    "sdf = model.fit(chicago, 'predicted_prices', 'residual_prices')"
   ]
  },
  {
   "cell_type": "code",
   "execution_count": 12,
   "id": "41f2a8d6",
   "metadata": {},
   "outputs": [
    {
     "data": {
      "text/html": [
       "<div>\n",
       "<style scoped>\n",
       "    .dataframe tbody tr th:only-of-type {\n",
       "        vertical-align: middle;\n",
       "    }\n",
       "\n",
       "    .dataframe tbody tr th {\n",
       "        vertical-align: top;\n",
       "    }\n",
       "\n",
       "    .dataframe thead th {\n",
       "        text-align: right;\n",
       "    }\n",
       "</style>\n",
       "<table border=\"1\" class=\"dataframe\">\n",
       "  <thead>\n",
       "    <tr style=\"text-align: right;\">\n",
       "      <th></th>\n",
       "      <th>predicted_prices</th>\n",
       "      <th>residual_prices</th>\n",
       "      <th>geometry</th>\n",
       "    </tr>\n",
       "  </thead>\n",
       "  <tbody>\n",
       "    <tr>\n",
       "      <th>0</th>\n",
       "      <td>392936.296477</td>\n",
       "      <td>116489.703523</td>\n",
       "      <td>POINT (-87.67336 41.93580)</td>\n",
       "    </tr>\n",
       "    <tr>\n",
       "      <th>1</th>\n",
       "      <td>297007.212935</td>\n",
       "      <td>52419.787065</td>\n",
       "      <td>POINT (-87.66714 41.85526)</td>\n",
       "    </tr>\n",
       "    <tr>\n",
       "      <th>2</th>\n",
       "      <td>531509.530988</td>\n",
       "      <td>228836.469012</td>\n",
       "      <td>POINT (-87.65165 41.91793)</td>\n",
       "    </tr>\n",
       "    <tr>\n",
       "      <th>6</th>\n",
       "      <td>319428.661955</td>\n",
       "      <td>-125562.661955</td>\n",
       "      <td>POINT (-87.62633 41.86825)</td>\n",
       "    </tr>\n",
       "    <tr>\n",
       "      <th>7</th>\n",
       "      <td>286719.385084</td>\n",
       "      <td>-65926.385084</td>\n",
       "      <td>POINT (-87.65871 41.89540)</td>\n",
       "    </tr>\n",
       "  </tbody>\n",
       "</table>\n",
       "</div>"
      ],
      "text/plain": [
       "   predicted_prices  residual_prices                    geometry\n",
       "0     392936.296477    116489.703523  POINT (-87.67336 41.93580)\n",
       "1     297007.212935     52419.787065  POINT (-87.66714 41.85526)\n",
       "2     531509.530988    228836.469012  POINT (-87.65165 41.91793)\n",
       "6     319428.661955   -125562.661955  POINT (-87.62633 41.86825)\n",
       "7     286719.385084    -65926.385084  POINT (-87.65871 41.89540)"
      ]
     },
     "execution_count": 12,
     "metadata": {},
     "output_type": "execute_result"
    }
   ],
   "source": [
    "sdf.data.head()"
   ]
  },
  {
   "cell_type": "markdown",
   "id": "b3a72528",
   "metadata": {},
   "source": [
    "This way if we need to use those predictions elsewhere, we can easily do so. The fitting procedure also generates a bunch of relevant statistics about the data. For example, this effects_table gives us the regression coefficient. Not surprisingly, we see a positive correlation between park_distance and a negative correlation with crime for zillow prices."
   ]
  },
  {
   "cell_type": "code",
   "execution_count": 13,
   "id": "d5d8c632",
   "metadata": {},
   "outputs": [
    {
     "data": {
      "text/html": [
       "<div>\n",
       "<style scoped>\n",
       "    .dataframe tbody tr th:only-of-type {\n",
       "        vertical-align: middle;\n",
       "    }\n",
       "\n",
       "    .dataframe tbody tr th {\n",
       "        vertical-align: top;\n",
       "    }\n",
       "\n",
       "    .dataframe thead th {\n",
       "        text-align: right;\n",
       "    }\n",
       "</style>\n",
       "<table border=\"1\" class=\"dataframe\">\n",
       "  <thead>\n",
       "    <tr style=\"text-align: right;\">\n",
       "      <th></th>\n",
       "      <th>Variable</th>\n",
       "      <th>Coefficient</th>\n",
       "    </tr>\n",
       "  </thead>\n",
       "  <tbody>\n",
       "    <tr>\n",
       "      <th>1</th>\n",
       "      <td>crime</td>\n",
       "      <td>-18376.90863</td>\n",
       "    </tr>\n",
       "    <tr>\n",
       "      <th>0</th>\n",
       "      <td>park_distance</td>\n",
       "      <td>22421.44902</td>\n",
       "    </tr>\n",
       "  </tbody>\n",
       "</table>\n",
       "</div>"
      ],
      "text/plain": [
       "        Variable  Coefficient\n",
       "1          crime -18376.90863\n",
       "0  park_distance  22421.44902"
      ]
     },
     "execution_count": 13,
     "metadata": {},
     "output_type": "execute_result"
    }
   ],
   "source": [
    "model.effects_table"
   ]
  },
  {
   "cell_type": "markdown",
   "id": "85f6d3b8",
   "metadata": {},
   "source": [
    "We can also get other kinds of stats. We can see that the r2 score is actually quite poor for this model."
   ]
  },
  {
   "cell_type": "code",
   "execution_count": 14,
   "id": "6fcc3a66",
   "metadata": {},
   "outputs": [
    {
     "data": {
      "text/plain": [
       "{'mse': 10520363570.805363,\n",
       " 'r2': -4.564924146925049,\n",
       " 'coefficients': [('park_distance', 22421.449020229607),\n",
       "  ('crime', -18376.90863046265)]}"
      ]
     },
     "execution_count": 14,
     "metadata": {},
     "output_type": "execute_result"
    }
   ],
   "source": [
    "model.stats"
   ]
  },
  {
   "cell_type": "markdown",
   "id": "9e5da0a5",
   "metadata": {},
   "source": [
    "## Adding ACS Variables\n",
    "\n",
    "One way that we can make these predictions better is to add ACS variables to the model. We create a new model with all of the socio-economic ACS variables."
   ]
  },
  {
   "cell_type": "code",
   "execution_count": 15,
   "id": "6412d20f",
   "metadata": {},
   "outputs": [
    {
     "name": "stderr",
     "output_type": "stream",
     "text": [
      "/Users/sanjaykrishnan/Documents/sociome-data-commons-v2/venv/lib/python3.9/site-packages/IPython/core/interactiveshell.py:3378: FutureWarning: The `op` parameter is deprecated and will be removed in a future release. Please use the `predicate` parameter instead.\n",
      "  exec(code_obj, self.user_global_ns, self.user_ns)\n"
     ]
    }
   ],
   "source": [
    "gdf = SociomeDataFrame.from_save_file('../data/acs')\n",
    "chicago.add_subdivision(gdf, 'tract', 'GEOID')\n",
    "exp = ['park_distance', 'crime']\n",
    "\n",
    "\n",
    "for c in gdf.data.columns:\n",
    "    if 'SE_' in c:\n",
    "        agg = SpatialSubdivisionFunction(gdf, 'tract', c, 'GEOID')\n",
    "        chicago.add_metric_to_data(agg, c)\n",
    "        exp.append(c)\n",
    "\n",
    "model2 = GeospatialModel('prices', exp)\n",
    "sdf = model2.fit(chicago, 'predicted_prices', 'residual_prices')"
   ]
  },
  {
   "cell_type": "code",
   "execution_count": 17,
   "id": "ee43cb80",
   "metadata": {},
   "outputs": [
    {
     "data": {
      "text/html": [
       "<div>\n",
       "<style scoped>\n",
       "    .dataframe tbody tr th:only-of-type {\n",
       "        vertical-align: middle;\n",
       "    }\n",
       "\n",
       "    .dataframe tbody tr th {\n",
       "        vertical-align: top;\n",
       "    }\n",
       "\n",
       "    .dataframe thead th {\n",
       "        text-align: right;\n",
       "    }\n",
       "</style>\n",
       "<table border=\"1\" class=\"dataframe\">\n",
       "  <thead>\n",
       "    <tr style=\"text-align: right;\">\n",
       "      <th></th>\n",
       "      <th>predicted_prices</th>\n",
       "      <th>residual_prices</th>\n",
       "      <th>geometry</th>\n",
       "    </tr>\n",
       "  </thead>\n",
       "  <tbody>\n",
       "    <tr>\n",
       "      <th>0</th>\n",
       "      <td>615209.746285</td>\n",
       "      <td>-105783.746285</td>\n",
       "      <td>POINT (-87.67336 41.93580)</td>\n",
       "    </tr>\n",
       "    <tr>\n",
       "      <th>1</th>\n",
       "      <td>413142.231921</td>\n",
       "      <td>-63715.231921</td>\n",
       "      <td>POINT (-87.66714 41.85526)</td>\n",
       "    </tr>\n",
       "    <tr>\n",
       "      <th>2</th>\n",
       "      <td>779291.875724</td>\n",
       "      <td>-18945.875724</td>\n",
       "      <td>POINT (-87.65165 41.91793)</td>\n",
       "    </tr>\n",
       "    <tr>\n",
       "      <th>6</th>\n",
       "      <td>158098.476833</td>\n",
       "      <td>35767.523167</td>\n",
       "      <td>POINT (-87.62633 41.86825)</td>\n",
       "    </tr>\n",
       "    <tr>\n",
       "      <th>7</th>\n",
       "      <td>264445.498114</td>\n",
       "      <td>-43652.498114</td>\n",
       "      <td>POINT (-87.65871 41.89540)</td>\n",
       "    </tr>\n",
       "  </tbody>\n",
       "</table>\n",
       "</div>"
      ],
      "text/plain": [
       "   predicted_prices  residual_prices                    geometry\n",
       "0     615209.746285   -105783.746285  POINT (-87.67336 41.93580)\n",
       "1     413142.231921    -63715.231921  POINT (-87.66714 41.85526)\n",
       "2     779291.875724    -18945.875724  POINT (-87.65165 41.91793)\n",
       "6     158098.476833     35767.523167  POINT (-87.62633 41.86825)\n",
       "7     264445.498114    -43652.498114  POINT (-87.65871 41.89540)"
      ]
     },
     "execution_count": 17,
     "metadata": {},
     "output_type": "execute_result"
    }
   ],
   "source": [
    "sdf.data.head()"
   ]
  },
  {
   "cell_type": "markdown",
   "id": "99570ada",
   "metadata": {},
   "source": [
    "We can see that this is a substantially improved model."
   ]
  },
  {
   "cell_type": "code",
   "execution_count": 19,
   "id": "beddeb05",
   "metadata": {},
   "outputs": [
    {
     "data": {
      "text/plain": [
       "{'mse': 4429541802.576027,\n",
       " 'r2': 0.4450358017612569,\n",
       " 'coefficients': [('park_distance', 1256.3626359302743),\n",
       "  ('crime', -5605.54807305008),\n",
       "  ('SE_A00001_', 12.429737088823844),\n",
       "  ('SE_A00002_', 12.429706939934986),\n",
       "  ('SE_A0000_1', 0.5715638651582584),\n",
       "  ('SE_A0000_2', -3126.01844073742),\n",
       "  ('SE_A02001_', 12.42965185936015),\n",
       "  ('SE_A0200_1', 22.718724274519207),\n",
       "  ('SE_A0200_2', -10.288782581931935),\n",
       "  ('SE_A01001_', 12.429636462727991),\n",
       "  ('SE_A0100_1', -59.04603474041965),\n",
       "  ('SE_A0100_2', 75.78719138180145),\n",
       "  ('SE_A0100_3', -189.22611834319895),\n",
       "  ('SE_A0100_4', -86.97054279308837),\n",
       "  ('SE_A0100_5', -39.962045747034026),\n",
       "  ('SE_A0100_6', 41.59888097403053),\n",
       "  ('SE_A0100_7', 146.88794951189865),\n",
       "  ('SE_A0100_8', -30.06525744626507),\n",
       "  ('SE_A0100_9', -130.82306359703279),\n",
       "  ('SE_A010010', 181.4276235179752),\n",
       "  ('SE_A010011', -31.390203872937278),\n",
       "  ('SE_A010012', 134.21160743675625),\n",
       "  ('SE_A03001_', 12.429536813882535),\n",
       "  ('SE_A0300_1', -89.79285094222048),\n",
       "  ('SE_A0300_2', -101.55672289442263),\n",
       "  ('SE_A0300_3', -162.18350188526372),\n",
       "  ('SE_A0300_4', -79.47182178701844),\n",
       "  ('SE_A0300_5', 812.4898522463303),\n",
       "  ('SE_A0300_6', -90.91365218469241),\n",
       "  ('SE_A0300_7', -276.141445303361),\n",
       "  ('SE_A10008_', 18.928875954478865),\n",
       "  ('SE_A1000_1', 3.082524731904719),\n",
       "  ('SE_A1000_2', 37.72124377997919),\n",
       "  ('SE_A1000_3', -34.63876445700032),\n",
       "  ('SE_A1000_4', -84.38363473537767),\n",
       "  ('SE_A1000_5', 49.74481754913133),\n",
       "  ('SE_A1000_6', 15.846316094434378),\n",
       "  ('SE_A1000_7', -149.99568132732537),\n",
       "  ('SE_A1000_8', 165.84201301667252),\n",
       "  ('SE_A14006_', 2.9909487442471563),\n",
       "  ('SE_A10001_', -146.80113475551576),\n",
       "  ('SE_A10060_', 18.92887316322195),\n",
       "  ('SE_A1006_1', -107.55672176924938),\n",
       "  ('SE_A1006_2', 126.48558825970429),\n",
       "  ('SE_B13004_', 33.1467170763836),\n",
       "  ('SE_B1300_1', 8.030560362932052),\n",
       "  ('SE_B1300_2', -13.508706973371202),\n",
       "  ('SE_B1300_3', -5.478077058844264),\n",
       "  ('SE_B1300_4', 38.62488347365036)]}"
      ]
     },
     "execution_count": 19,
     "metadata": {},
     "output_type": "execute_result"
    }
   ],
   "source": [
    "model2.stats"
   ]
  },
  {
   "cell_type": "markdown",
   "id": "531bf976",
   "metadata": {},
   "source": [
    "## Partial Correlation Analysis\n",
    "We can also use this model to run a partial correlation analysis: to what extent do the crime and parks variable add information over the ACS variables?\n",
    "\n",
    "Let's first fit a model with only the ACS variables. Note, we have already added them to the chicago dataframe, no need to do it again!"
   ]
  },
  {
   "cell_type": "code",
   "execution_count": 20,
   "id": "3cd23430",
   "metadata": {},
   "outputs": [],
   "source": [
    "exp = []\n",
    "\n",
    "for c in gdf.data.columns:\n",
    "    if 'SE_' in c:\n",
    "        exp.append(c)\n",
    "\n",
    "model3 = GeospatialModel('prices', exp)\n",
    "sdf = model3.fit(chicago, 'predicted_prices', 'residual_prices')"
   ]
  },
  {
   "cell_type": "markdown",
   "id": "051ae0c2",
   "metadata": {},
   "source": [
    "We can see that the r2 score drops slightly with the removal of these variables."
   ]
  },
  {
   "cell_type": "code",
   "execution_count": 24,
   "id": "20916281",
   "metadata": {},
   "outputs": [
    {
     "data": {
      "text/plain": [
       "0.4307582391519388"
      ]
     },
     "execution_count": 24,
     "metadata": {},
     "output_type": "execute_result"
    }
   ],
   "source": [
    "model3.stats['r2']"
   ]
  },
  {
   "cell_type": "markdown",
   "id": "8ec76ad2",
   "metadata": {},
   "source": [
    "We can then turn our residual_prices into a new spatial metric."
   ]
  },
  {
   "cell_type": "code",
   "execution_count": 25,
   "id": "92aaa733",
   "metadata": {},
   "outputs": [
    {
     "data": {
      "text/plain": [
       "<sociomepy.data.SociomeDataFrame at 0x1163928b0>"
      ]
     },
     "execution_count": 25,
     "metadata": {},
     "output_type": "execute_result"
    }
   ],
   "source": [
    "from sociomepy.metrics import SpatialIdentityFunction\n",
    "res_prices = SpatialIdentityFunction(sdf, 'residual_prices')\n",
    "chicago.add_metric_to_data(res_prices, 'residual_prices')"
   ]
  },
  {
   "cell_type": "code",
   "execution_count": 26,
   "id": "0c93b08e",
   "metadata": {},
   "outputs": [
    {
     "data": {
      "text/html": [
       "<div>\n",
       "<style scoped>\n",
       "    .dataframe tbody tr th:only-of-type {\n",
       "        vertical-align: middle;\n",
       "    }\n",
       "\n",
       "    .dataframe tbody tr th {\n",
       "        vertical-align: top;\n",
       "    }\n",
       "\n",
       "    .dataframe thead th {\n",
       "        text-align: right;\n",
       "    }\n",
       "</style>\n",
       "<table border=\"1\" class=\"dataframe\">\n",
       "  <thead>\n",
       "    <tr style=\"text-align: right;\">\n",
       "      <th></th>\n",
       "      <th>Lat</th>\n",
       "      <th>Long</th>\n",
       "      <th>ADDRDELIV</th>\n",
       "      <th>Post_Comm</th>\n",
       "      <th>State</th>\n",
       "      <th>Post_Code</th>\n",
       "      <th>LSt_Type</th>\n",
       "      <th>LSt_PreDir</th>\n",
       "      <th>geometry</th>\n",
       "      <th>LOCATIONS</th>\n",
       "      <th>...</th>\n",
       "      <th>SE_A10001_</th>\n",
       "      <th>SE_A10060_</th>\n",
       "      <th>SE_A1006_1</th>\n",
       "      <th>SE_A1006_2</th>\n",
       "      <th>SE_B13004_</th>\n",
       "      <th>SE_B1300_1</th>\n",
       "      <th>SE_B1300_2</th>\n",
       "      <th>SE_B1300_3</th>\n",
       "      <th>SE_B1300_4</th>\n",
       "      <th>residual_prices</th>\n",
       "    </tr>\n",
       "  </thead>\n",
       "  <tbody>\n",
       "    <tr>\n",
       "      <th>0</th>\n",
       "      <td>41.935796</td>\n",
       "      <td>-87.673357</td>\n",
       "      <td>1763 WEST WELLINGTON AVENUE</td>\n",
       "      <td>CHICAGO</td>\n",
       "      <td>IL</td>\n",
       "      <td>60657</td>\n",
       "      <td>AVE</td>\n",
       "      <td>W</td>\n",
       "      <td>POINT (-87.67336 41.93580)</td>\n",
       "      <td>1</td>\n",
       "      <td>...</td>\n",
       "      <td>995.0</td>\n",
       "      <td>948.0</td>\n",
       "      <td>567.0</td>\n",
       "      <td>381.0</td>\n",
       "      <td>2317.0</td>\n",
       "      <td>63.0</td>\n",
       "      <td>160.0</td>\n",
       "      <td>223.0</td>\n",
       "      <td>2094.0</td>\n",
       "      <td>-108449.902299</td>\n",
       "    </tr>\n",
       "    <tr>\n",
       "      <th>1</th>\n",
       "      <td>41.855258</td>\n",
       "      <td>-87.667139</td>\n",
       "      <td>1622 WEST CULLERTON STREET</td>\n",
       "      <td>CHICAGO</td>\n",
       "      <td>IL</td>\n",
       "      <td>60608</td>\n",
       "      <td>ST</td>\n",
       "      <td>W</td>\n",
       "      <td>POINT (-87.66714 41.85526)</td>\n",
       "      <td>1</td>\n",
       "      <td>...</td>\n",
       "      <td>1678.0</td>\n",
       "      <td>1534.0</td>\n",
       "      <td>404.0</td>\n",
       "      <td>1130.0</td>\n",
       "      <td>4509.0</td>\n",
       "      <td>773.0</td>\n",
       "      <td>1974.0</td>\n",
       "      <td>2747.0</td>\n",
       "      <td>1762.0</td>\n",
       "      <td>-71116.595039</td>\n",
       "    </tr>\n",
       "    <tr>\n",
       "      <th>2</th>\n",
       "      <td>41.917926</td>\n",
       "      <td>-87.651651</td>\n",
       "      <td>917 WEST ARMITAGE AVENUE</td>\n",
       "      <td>CHICAGO</td>\n",
       "      <td>IL</td>\n",
       "      <td>60614</td>\n",
       "      <td>AVE</td>\n",
       "      <td>W</td>\n",
       "      <td>POINT (-87.65165 41.91793)</td>\n",
       "      <td>1</td>\n",
       "      <td>...</td>\n",
       "      <td>1921.0</td>\n",
       "      <td>1816.0</td>\n",
       "      <td>933.0</td>\n",
       "      <td>883.0</td>\n",
       "      <td>3969.0</td>\n",
       "      <td>296.0</td>\n",
       "      <td>205.0</td>\n",
       "      <td>501.0</td>\n",
       "      <td>3468.0</td>\n",
       "      <td>-24806.066301</td>\n",
       "    </tr>\n",
       "    <tr>\n",
       "      <th>6</th>\n",
       "      <td>41.868253</td>\n",
       "      <td>-87.626334</td>\n",
       "      <td>1132 SOUTH WABASH AVENUE</td>\n",
       "      <td>CHICAGO</td>\n",
       "      <td>IL</td>\n",
       "      <td>60605</td>\n",
       "      <td>AVE</td>\n",
       "      <td>S</td>\n",
       "      <td>POINT (-87.62633 41.86825)</td>\n",
       "      <td>1</td>\n",
       "      <td>...</td>\n",
       "      <td>2665.0</td>\n",
       "      <td>2152.0</td>\n",
       "      <td>1160.0</td>\n",
       "      <td>992.0</td>\n",
       "      <td>4749.0</td>\n",
       "      <td>776.0</td>\n",
       "      <td>1189.0</td>\n",
       "      <td>1965.0</td>\n",
       "      <td>2784.0</td>\n",
       "      <td>-73111.042897</td>\n",
       "    </tr>\n",
       "    <tr>\n",
       "      <th>7</th>\n",
       "      <td>41.895400</td>\n",
       "      <td>-87.658712</td>\n",
       "      <td>732 NORTH WILLARD COURT</td>\n",
       "      <td>CHICAGO</td>\n",
       "      <td>IL</td>\n",
       "      <td>60642</td>\n",
       "      <td>CT</td>\n",
       "      <td>N</td>\n",
       "      <td>POINT (-87.65871 41.89540)</td>\n",
       "      <td>1</td>\n",
       "      <td>...</td>\n",
       "      <td>1592.0</td>\n",
       "      <td>1275.0</td>\n",
       "      <td>398.0</td>\n",
       "      <td>877.0</td>\n",
       "      <td>2651.0</td>\n",
       "      <td>633.0</td>\n",
       "      <td>860.0</td>\n",
       "      <td>1493.0</td>\n",
       "      <td>1158.0</td>\n",
       "      <td>-73111.042897</td>\n",
       "    </tr>\n",
       "  </tbody>\n",
       "</table>\n",
       "<p>5 rows × 63 columns</p>\n",
       "</div>"
      ],
      "text/plain": [
       "         Lat       Long                    ADDRDELIV Post_Comm State  \\\n",
       "0  41.935796 -87.673357  1763 WEST WELLINGTON AVENUE   CHICAGO    IL   \n",
       "1  41.855258 -87.667139   1622 WEST CULLERTON STREET   CHICAGO    IL   \n",
       "2  41.917926 -87.651651     917 WEST ARMITAGE AVENUE   CHICAGO    IL   \n",
       "6  41.868253 -87.626334     1132 SOUTH WABASH AVENUE   CHICAGO    IL   \n",
       "7  41.895400 -87.658712      732 NORTH WILLARD COURT   CHICAGO    IL   \n",
       "\n",
       "   Post_Code LSt_Type LSt_PreDir                    geometry  LOCATIONS  ...  \\\n",
       "0      60657      AVE          W  POINT (-87.67336 41.93580)          1  ...   \n",
       "1      60608       ST          W  POINT (-87.66714 41.85526)          1  ...   \n",
       "2      60614      AVE          W  POINT (-87.65165 41.91793)          1  ...   \n",
       "6      60605      AVE          S  POINT (-87.62633 41.86825)          1  ...   \n",
       "7      60642       CT          N  POINT (-87.65871 41.89540)          1  ...   \n",
       "\n",
       "   SE_A10001_  SE_A10060_ SE_A1006_1  SE_A1006_2 SE_B13004_  SE_B1300_1  \\\n",
       "0       995.0       948.0      567.0       381.0     2317.0        63.0   \n",
       "1      1678.0      1534.0      404.0      1130.0     4509.0       773.0   \n",
       "2      1921.0      1816.0      933.0       883.0     3969.0       296.0   \n",
       "6      2665.0      2152.0     1160.0       992.0     4749.0       776.0   \n",
       "7      1592.0      1275.0      398.0       877.0     2651.0       633.0   \n",
       "\n",
       "   SE_B1300_2  SE_B1300_3  SE_B1300_4  residual_prices  \n",
       "0       160.0       223.0      2094.0   -108449.902299  \n",
       "1      1974.0      2747.0      1762.0    -71116.595039  \n",
       "2       205.0       501.0      3468.0    -24806.066301  \n",
       "6      1189.0      1965.0      2784.0    -73111.042897  \n",
       "7       860.0      1493.0      1158.0    -73111.042897  \n",
       "\n",
       "[5 rows x 63 columns]"
      ]
     },
     "execution_count": 26,
     "metadata": {},
     "output_type": "execute_result"
    }
   ],
   "source": [
    "chicago.data.head()"
   ]
  },
  {
   "cell_type": "markdown",
   "id": "e00bca30",
   "metadata": {},
   "source": [
    "Every data point now is annotated with a residual price. A new model can come in and try to predict those prices with other variables."
   ]
  },
  {
   "cell_type": "code",
   "execution_count": null,
   "id": "f50ab554",
   "metadata": {},
   "outputs": [],
   "source": []
  }
 ],
 "metadata": {
  "kernelspec": {
   "display_name": "Python 3 (ipykernel)",
   "language": "python",
   "name": "python3"
  },
  "language_info": {
   "codemirror_mode": {
    "name": "ipython",
    "version": 3
   },
   "file_extension": ".py",
   "mimetype": "text/x-python",
   "name": "python",
   "nbconvert_exporter": "python",
   "pygments_lexer": "ipython3",
   "version": "3.9.13"
  }
 },
 "nbformat": 4,
 "nbformat_minor": 5
}
